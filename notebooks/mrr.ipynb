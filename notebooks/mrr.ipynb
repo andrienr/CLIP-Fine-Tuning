{
 "cells": [
  {
   "cell_type": "code",
   "execution_count": 3,
   "metadata": {},
   "outputs": [
    {
     "name": "stderr",
     "output_type": "stream",
     "text": [
      "/home/enrico/univr/Tesi/.env/lib/python3.10/site-packages/tqdm/auto.py:21: TqdmWarning: IProgress not found. Please update jupyter and ipywidgets. See https://ipywidgets.readthedocs.io/en/stable/user_install.html\n",
      "  from .autonotebook import tqdm as notebook_tqdm\n",
      "2023-10-10 09:19:42.593818: I tensorflow/tsl/cuda/cudart_stub.cc:28] Could not find cuda drivers on your machine, GPU will not be used.\n",
      "2023-10-10 09:19:42.768251: I tensorflow/tsl/cuda/cudart_stub.cc:28] Could not find cuda drivers on your machine, GPU will not be used.\n",
      "2023-10-10 09:19:42.770217: I tensorflow/core/platform/cpu_feature_guard.cc:182] This TensorFlow binary is optimized to use available CPU instructions in performance-critical operations.\n",
      "To enable the following instructions: AVX2 FMA, in other operations, rebuild TensorFlow with the appropriate compiler flags.\n",
      "2023-10-10 09:19:43.855365: W tensorflow/compiler/tf2tensorrt/utils/py_utils.cc:38] TF-TRT Warning: Could not find TensorRT\n"
     ]
    }
   ],
   "source": [
    "import os\n",
    "import json\n",
    "import requests\n",
    "from pathlib import Path\n",
    "from transformers import (\n",
    "    AutoImageProcessor,\n",
    "    TFVisionTextDualEncoderModel,\n",
    "    BertTokenizer,\n",
    "    )\n",
    "import tensorflow as tf\n",
    "import numpy as np"
   ]
  },
  {
   "cell_type": "code",
   "execution_count": 4,
   "metadata": {},
   "outputs": [
    {
     "data": {
      "text/plain": [
       "'galaxy-emperador-marble-tile-21838-1s.jpg'"
      ]
     },
     "execution_count": 4,
     "metadata": {},
     "output_type": "execute_result"
    }
   ],
   "source": [
    "image_path_to_caption_file = 'image_path_to_caption_val.json'\n",
    "images_dir = '/home/enrico/univr/Tesi/images'\n",
    "image_path_to_caption = json.load(open(image_path_to_caption_file, 'r'))    \n",
    "img_paths = list(image_path_to_caption.keys())\n",
    "img_paths[0]"
   ]
  },
  {
   "cell_type": "code",
   "execution_count": 5,
   "metadata": {},
   "outputs": [],
   "source": [
    "image_processor = AutoImageProcessor.from_pretrained('google/vit-base-patch16-224')\n",
    "tokenizer = BertTokenizer.from_pretrained('bert-base-uncased')"
   ]
  },
  {
   "cell_type": "code",
   "execution_count": 6,
   "metadata": {},
   "outputs": [],
   "source": [
    "def crop_to_square(image):\n",
    "    height, width = tf.shape(image)[0], tf.shape(image)[1]\n",
    "    if height > width:\n",
    "        image = tf.image.crop_to_bounding_box(\n",
    "            image, (height - width) // 2, 0, width, width)\n",
    "    elif width > height:\n",
    "        image = tf.image.crop_to_bounding_box(\n",
    "            image, 0, (width - height) // 2, height, height)\n",
    "    return image"
   ]
  },
  {
   "cell_type": "code",
   "execution_count": 7,
   "metadata": {},
   "outputs": [],
   "source": [
    "def load_image(image_path, images_dir):\n",
    "    image = tf.io.read_file(os.path.join(images_dir,image_path))\n",
    "    image = tf.image.decode_image(\n",
    "        image, channels=3, expand_animations=False)\n",
    "    image = crop_to_square(image)\n",
    "    image = tf.image.resize(\n",
    "        image, list(image_processor.size.values()), method=\"bicubic\", antialias=True)\n",
    "    image = image / 255.0\n",
    "    image = (image - image_processor.image_mean) / image_processor.image_std\n",
    "    # Convert to channels-first\n",
    "    image = tf.transpose(image, perm=[2, 0, 1])\n",
    "\n",
    "    return image"
   ]
  },
  {
   "cell_type": "code",
   "execution_count": 8,
   "metadata": {},
   "outputs": [
    {
     "data": {
      "text/plain": [
       "(424, 3, 224, 224)"
      ]
     },
     "execution_count": 8,
     "metadata": {},
     "output_type": "execute_result"
    }
   ],
   "source": [
    "images = np.stack([load_image(p, images_dir) for p in img_paths], axis=0)\n",
    "images.shape"
   ]
  },
  {
   "cell_type": "code",
   "execution_count": 9,
   "metadata": {},
   "outputs": [],
   "source": [
    "# !saved_model_cli show --dir {'text_model/1'} --all"
   ]
  },
  {
   "cell_type": "code",
   "execution_count": 10,
   "metadata": {},
   "outputs": [],
   "source": [
    "# !docker pull tensorflow/serving\n",
    "# !docker run -d --name serving_base tensorflow/serving\n",
    "# !docker cp ../trainer/saved_models serving_base:/models/clip_bert\n",
    "# !docker commit --change \"ENV MODEL_NAME clip_bert\" serving_base clip_bert\n",
    "# !docker kill serving_base\n",
    "# !docker run -d -p 8501:8501 --name clip_bert clip_bert"
   ]
  },
  {
   "cell_type": "code",
   "execution_count": 1,
   "metadata": {},
   "outputs": [
    {
     "name": "stdout",
     "output_type": "stream",
     "text": [
      "2023-10-10 07:19:08.554038: I tensorflow_serving/model_servers/server_core.cc:465] Adding/updating models.\n",
      "2023-10-10 07:19:08.554086: I tensorflow_serving/model_servers/server_core.cc:594]  (Re-)adding model: clip_bert\n",
      "2023-10-10 07:19:08.754115: I tensorflow_serving/core/basic_manager.cc:739] Successfully reserved resources to load servable {name: clip_bert version: 16}\n",
      "2023-10-10 07:19:08.754145: I tensorflow_serving/core/loader_harness.cc:66] Approving load for servable version {name: clip_bert version: 16}\n",
      "2023-10-10 07:19:08.754157: I tensorflow_serving/core/loader_harness.cc:74] Loading servable version {name: clip_bert version: 16}\n",
      "2023-10-10 07:19:08.756029: I external/org_tensorflow/tensorflow/cc/saved_model/reader.cc:45] Reading SavedModel from: /models/clip_bert/16\n",
      "2023-10-10 07:19:08.855467: I tensorflow_serving/core/basic_manager.cc:739] Successfully reserved resources to load servable {name: clip_bert version: 15}\n",
      "2023-10-10 07:19:08.855499: I tensorflow_serving/core/loader_harness.cc:66] Approving load for servable version {name: clip_bert version: 15}\n",
      "2023-10-10 07:19:08.855514: I tensorflow_serving/core/loader_harness.cc:74] Loading servable version {name: clip_bert version: 15}\n",
      "2023-10-10 07:19:08.855723: I external/org_tensorflow/tensorflow/cc/saved_model/reader.cc:45] Reading SavedModel from: /models/clip_bert/15\n",
      "2023-10-10 07:19:08.937787: I external/org_tensorflow/tensorflow/cc/saved_model/reader.cc:91] Reading meta graph with tags { serve }\n",
      "2023-10-10 07:19:08.937864: I external/org_tensorflow/tensorflow/cc/saved_model/reader.cc:132] Reading SavedModel debug info (if present) from: /models/clip_bert/16\n",
      "2023-10-10 07:19:08.938692: I external/org_tensorflow/tensorflow/core/platform/cpu_feature_guard.cc:182] This TensorFlow binary is optimized to use available CPU instructions in performance-critical operations.\n",
      "To enable the following instructions: AVX2 FMA, in other operations, rebuild TensorFlow with the appropriate compiler flags.\n",
      "2023-10-10 07:19:08.977747: I tensorflow_serving/core/basic_manager.cc:739] Successfully reserved resources to load servable {name: clip_bert version: 14}\n",
      "2023-10-10 07:19:08.977799: I tensorflow_serving/core/loader_harness.cc:66] Approving load for servable version {name: clip_bert version: 14}\n",
      "2023-10-10 07:19:08.977826: I tensorflow_serving/core/loader_harness.cc:74] Loading servable version {name: clip_bert version: 14}\n",
      "2023-10-10 07:19:08.978075: I external/org_tensorflow/tensorflow/cc/saved_model/reader.cc:45] Reading SavedModel from: /models/clip_bert/14\n",
      "2023-10-10 07:19:09.113291: I external/org_tensorflow/tensorflow/cc/saved_model/reader.cc:91] Reading meta graph with tags { serve }\n",
      "2023-10-10 07:19:09.113336: I external/org_tensorflow/tensorflow/cc/saved_model/reader.cc:132] Reading SavedModel debug info (if present) from: /models/clip_bert/15\n",
      "2023-10-10 07:19:09.115985: I tensorflow_serving/core/basic_manager.cc:739] Successfully reserved resources to load servable {name: clip_bert version: 13}\n",
      "2023-10-10 07:19:09.116106: I tensorflow_serving/core/loader_harness.cc:66] Approving load for servable version {name: clip_bert version: 13}\n",
      "2023-10-10 07:19:09.116144: I tensorflow_serving/core/loader_harness.cc:74] Loading servable version {name: clip_bert version: 13}\n",
      "2023-10-10 07:19:09.116553: I external/org_tensorflow/tensorflow/cc/saved_model/reader.cc:45] Reading SavedModel from: /models/clip_bert/13\n",
      "2023-10-10 07:19:09.254701: I tensorflow_serving/core/basic_manager.cc:739] Successfully reserved resources to load servable {name: clip_bert version: 12}\n",
      "2023-10-10 07:19:09.254744: I tensorflow_serving/core/loader_harness.cc:66] Approving load for servable version {name: clip_bert version: 12}\n",
      "2023-10-10 07:19:09.254765: I tensorflow_serving/core/loader_harness.cc:74] Loading servable version {name: clip_bert version: 12}\n",
      "2023-10-10 07:19:09.254972: I external/org_tensorflow/tensorflow/cc/saved_model/reader.cc:45] Reading SavedModel from: /models/clip_bert/12\n",
      "2023-10-10 07:19:09.309609: I external/org_tensorflow/tensorflow/cc/saved_model/reader.cc:91] Reading meta graph with tags { serve }\n",
      "2023-10-10 07:19:09.309658: I external/org_tensorflow/tensorflow/cc/saved_model/reader.cc:132] Reading SavedModel debug info (if present) from: /models/clip_bert/14\n",
      "2023-10-10 07:19:09.423586: I tensorflow_serving/core/basic_manager.cc:739] Successfully reserved resources to load servable {name: clip_bert version: 11}\n",
      "2023-10-10 07:19:09.423634: I tensorflow_serving/core/loader_harness.cc:66] Approving load for servable version {name: clip_bert version: 11}\n",
      "2023-10-10 07:19:09.423658: I tensorflow_serving/core/loader_harness.cc:74] Loading servable version {name: clip_bert version: 11}\n",
      "2023-10-10 07:19:09.423856: I external/org_tensorflow/tensorflow/cc/saved_model/reader.cc:45] Reading SavedModel from: /models/clip_bert/11\n",
      "2023-10-10 07:19:09.535610: I external/org_tensorflow/tensorflow/cc/saved_model/reader.cc:91] Reading meta graph with tags { serve }\n",
      "2023-10-10 07:19:09.535644: I external/org_tensorflow/tensorflow/cc/saved_model/reader.cc:132] Reading SavedModel debug info (if present) from: /models/clip_bert/13\n",
      "2023-10-10 07:19:09.584994: I tensorflow_serving/core/basic_manager.cc:739] Successfully reserved resources to load servable {name: clip_bert version: 10}\n",
      "2023-10-10 07:19:09.585087: I tensorflow_serving/core/loader_harness.cc:66] Approving load for servable version {name: clip_bert version: 10}\n",
      "2023-10-10 07:19:09.585130: I tensorflow_serving/core/loader_harness.cc:74] Loading servable version {name: clip_bert version: 10}\n",
      "2023-10-10 07:19:09.585433: I external/org_tensorflow/tensorflow/cc/saved_model/reader.cc:45] Reading SavedModel from: /models/clip_bert/10\n",
      "2023-10-10 07:19:09.799659: I tensorflow_serving/core/basic_manager.cc:739] Successfully reserved resources to load servable {name: clip_bert version: 9}\n",
      "2023-10-10 07:19:09.799719: I tensorflow_serving/core/loader_harness.cc:66] Approving load for servable version {name: clip_bert version: 9}\n",
      "2023-10-10 07:19:09.799742: I tensorflow_serving/core/loader_harness.cc:74] Loading servable version {name: clip_bert version: 9}\n",
      "2023-10-10 07:19:09.799971: I external/org_tensorflow/tensorflow/cc/saved_model/reader.cc:45] Reading SavedModel from: /models/clip_bert/9\n",
      "2023-10-10 07:19:09.826427: I external/org_tensorflow/tensorflow/cc/saved_model/reader.cc:91] Reading meta graph with tags { serve }\n",
      "2023-10-10 07:19:09.826471: I external/org_tensorflow/tensorflow/cc/saved_model/reader.cc:132] Reading SavedModel debug info (if present) from: /models/clip_bert/12\n",
      "2023-10-10 07:19:09.889785: I external/org_tensorflow/tensorflow/compiler/mlir/mlir_graph_optimization_pass.cc:375] MLIR V1 optimization pass is not enabled\n",
      "2023-10-10 07:19:09.946355: I external/org_tensorflow/tensorflow/cc/saved_model/loader.cc:231] Restoring SavedModel bundle.\n",
      "2023-10-10 07:19:10.029246: I external/org_tensorflow/tensorflow/cc/saved_model/reader.cc:91] Reading meta graph with tags { serve }\n",
      "2023-10-10 07:19:10.029289: I external/org_tensorflow/tensorflow/cc/saved_model/reader.cc:132] Reading SavedModel debug info (if present) from: /models/clip_bert/11\n",
      "2023-10-10 07:19:10.063986: I tensorflow_serving/core/basic_manager.cc:739] Successfully reserved resources to load servable {name: clip_bert version: 8}\n",
      "2023-10-10 07:19:10.064173: I tensorflow_serving/core/loader_harness.cc:66] Approving load for servable version {name: clip_bert version: 8}\n",
      "2023-10-10 07:19:10.064563: I tensorflow_serving/core/loader_harness.cc:74] Loading servable version {name: clip_bert version: 8}\n",
      "2023-10-10 07:19:10.065662: I external/org_tensorflow/tensorflow/cc/saved_model/reader.cc:45] Reading SavedModel from: /models/clip_bert/8\n",
      "2023-10-10 07:19:10.112048: I external/org_tensorflow/tensorflow/cc/saved_model/loader.cc:231] Restoring SavedModel bundle.\n",
      "2023-10-10 07:19:10.170550: I external/org_tensorflow/tensorflow/cc/saved_model/reader.cc:91] Reading meta graph with tags { serve }\n",
      "2023-10-10 07:19:10.170580: I external/org_tensorflow/tensorflow/cc/saved_model/reader.cc:132] Reading SavedModel debug info (if present) from: /models/clip_bert/10\n",
      "2023-10-10 07:19:10.416138: I tensorflow_serving/core/basic_manager.cc:739] Successfully reserved resources to load servable {name: clip_bert version: 7}\n",
      "2023-10-10 07:19:10.416962: I tensorflow_serving/core/loader_harness.cc:66] Approving load for servable version {name: clip_bert version: 7}\n",
      "2023-10-10 07:19:10.417004: I tensorflow_serving/core/loader_harness.cc:74] Loading servable version {name: clip_bert version: 7}\n",
      "2023-10-10 07:19:10.417232: I external/org_tensorflow/tensorflow/cc/saved_model/reader.cc:45] Reading SavedModel from: /models/clip_bert/7\n",
      "2023-10-10 07:19:10.430837: I external/org_tensorflow/tensorflow/cc/saved_model/loader.cc:231] Restoring SavedModel bundle.\n",
      "2023-10-10 07:19:10.525849: I external/org_tensorflow/tensorflow/cc/saved_model/reader.cc:91] Reading meta graph with tags { serve }\n",
      "2023-10-10 07:19:10.525899: I external/org_tensorflow/tensorflow/cc/saved_model/reader.cc:132] Reading SavedModel debug info (if present) from: /models/clip_bert/9\n",
      "2023-10-10 07:19:10.743651: I tensorflow_serving/core/basic_manager.cc:739] Successfully reserved resources to load servable {name: clip_bert version: 6}\n",
      "2023-10-10 07:19:10.743808: I tensorflow_serving/core/loader_harness.cc:66] Approving load for servable version {name: clip_bert version: 6}\n",
      "2023-10-10 07:19:10.743837: I tensorflow_serving/core/loader_harness.cc:74] Loading servable version {name: clip_bert version: 6}\n",
      "2023-10-10 07:19:10.744076: I external/org_tensorflow/tensorflow/cc/saved_model/reader.cc:45] Reading SavedModel from: /models/clip_bert/6\n",
      "2023-10-10 07:19:10.817125: I external/org_tensorflow/tensorflow/cc/saved_model/loader.cc:231] Restoring SavedModel bundle.\n",
      "2023-10-10 07:19:10.915128: I external/org_tensorflow/tensorflow/cc/saved_model/reader.cc:91] Reading meta graph with tags { serve }\n",
      "2023-10-10 07:19:10.915159: I external/org_tensorflow/tensorflow/cc/saved_model/reader.cc:132] Reading SavedModel debug info (if present) from: /models/clip_bert/8\n",
      "2023-10-10 07:19:11.095691: I tensorflow_serving/core/basic_manager.cc:739] Successfully reserved resources to load servable {name: clip_bert version: 5}\n",
      "2023-10-10 07:19:11.096539: I tensorflow_serving/core/loader_harness.cc:66] Approving load for servable version {name: clip_bert version: 5}\n",
      "2023-10-10 07:19:11.096592: I tensorflow_serving/core/loader_harness.cc:74] Loading servable version {name: clip_bert version: 5}\n",
      "2023-10-10 07:19:11.096936: I external/org_tensorflow/tensorflow/cc/saved_model/reader.cc:45] Reading SavedModel from: /models/clip_bert/5\n",
      "2023-10-10 07:19:11.302141: I external/org_tensorflow/tensorflow/cc/saved_model/reader.cc:91] Reading meta graph with tags { serve }\n",
      "2023-10-10 07:19:11.302191: I external/org_tensorflow/tensorflow/cc/saved_model/reader.cc:132] Reading SavedModel debug info (if present) from: /models/clip_bert/7\n",
      "2023-10-10 07:19:11.379507: I external/org_tensorflow/tensorflow/cc/saved_model/loader.cc:231] Restoring SavedModel bundle.\n",
      "2023-10-10 07:19:11.567221: I external/org_tensorflow/tensorflow/cc/saved_model/loader.cc:231] Restoring SavedModel bundle.\n",
      "2023-10-10 07:19:11.622466: I external/org_tensorflow/tensorflow/cc/saved_model/reader.cc:91] Reading meta graph with tags { serve }\n",
      "2023-10-10 07:19:11.622515: I external/org_tensorflow/tensorflow/cc/saved_model/reader.cc:132] Reading SavedModel debug info (if present) from: /models/clip_bert/6\n",
      "2023-10-10 07:19:11.639650: I tensorflow_serving/core/basic_manager.cc:739] Successfully reserved resources to load servable {name: clip_bert version: 3}\n",
      "2023-10-10 07:19:11.639689: I tensorflow_serving/core/loader_harness.cc:66] Approving load for servable version {name: clip_bert version: 3}\n",
      "2023-10-10 07:19:11.639718: I tensorflow_serving/core/loader_harness.cc:74] Loading servable version {name: clip_bert version: 3}\n",
      "2023-10-10 07:19:11.639948: I external/org_tensorflow/tensorflow/cc/saved_model/reader.cc:45] Reading SavedModel from: /models/clip_bert/3\n",
      "2023-10-10 07:19:11.854865: I external/org_tensorflow/tensorflow/cc/saved_model/loader.cc:231] Restoring SavedModel bundle.\n",
      "2023-10-10 07:19:12.285227: I tensorflow_serving/core/basic_manager.cc:739] Successfully reserved resources to load servable {name: clip_bert version: 4}\n",
      "2023-10-10 07:19:12.285412: I tensorflow_serving/core/loader_harness.cc:66] Approving load for servable version {name: clip_bert version: 4}\n",
      "2023-10-10 07:19:12.285476: I tensorflow_serving/core/loader_harness.cc:74] Loading servable version {name: clip_bert version: 4}\n",
      "2023-10-10 07:19:12.285661: I external/org_tensorflow/tensorflow/cc/saved_model/reader.cc:45] Reading SavedModel from: /models/clip_bert/4\n",
      "2023-10-10 07:19:12.313380: I external/org_tensorflow/tensorflow/cc/saved_model/loader.cc:231] Restoring SavedModel bundle.\n",
      "2023-10-10 07:19:12.400154: I external/org_tensorflow/tensorflow/cc/saved_model/reader.cc:91] Reading meta graph with tags { serve }\n",
      "2023-10-10 07:19:12.400258: I external/org_tensorflow/tensorflow/cc/saved_model/reader.cc:132] Reading SavedModel debug info (if present) from: /models/clip_bert/5\n",
      "2023-10-10 07:19:12.665697: I external/org_tensorflow/tensorflow/cc/saved_model/reader.cc:91] Reading meta graph with tags { serve }\n",
      "2023-10-10 07:19:12.665737: I external/org_tensorflow/tensorflow/cc/saved_model/reader.cc:132] Reading SavedModel debug info (if present) from: /models/clip_bert/3\n",
      "2023-10-10 07:19:12.812020: I external/org_tensorflow/tensorflow/cc/saved_model/loader.cc:231] Restoring SavedModel bundle.\n",
      "2023-10-10 07:19:12.903221: I tensorflow_serving/core/basic_manager.cc:739] Successfully reserved resources to load servable {name: clip_bert version: 2}\n",
      "2023-10-10 07:19:12.903457: I tensorflow_serving/core/loader_harness.cc:66] Approving load for servable version {name: clip_bert version: 2}\n",
      "2023-10-10 07:19:12.903514: I tensorflow_serving/core/loader_harness.cc:74] Loading servable version {name: clip_bert version: 2}\n",
      "2023-10-10 07:19:12.903793: I external/org_tensorflow/tensorflow/cc/saved_model/reader.cc:45] Reading SavedModel from: /models/clip_bert/2\n",
      "2023-10-10 07:19:13.160969: I external/org_tensorflow/tensorflow/cc/saved_model/loader.cc:231] Restoring SavedModel bundle.\n",
      "2023-10-10 07:19:13.300325: I external/org_tensorflow/tensorflow/cc/saved_model/reader.cc:91] Reading meta graph with tags { serve }\n",
      "2023-10-10 07:19:13.300361: I external/org_tensorflow/tensorflow/cc/saved_model/reader.cc:132] Reading SavedModel debug info (if present) from: /models/clip_bert/4\n",
      "2023-10-10 07:19:13.377042: I tensorflow_serving/core/basic_manager.cc:739] Successfully reserved resources to load servable {name: clip_bert version: 0}\n",
      "2023-10-10 07:19:13.377131: I tensorflow_serving/core/loader_harness.cc:66] Approving load for servable version {name: clip_bert version: 0}\n",
      "2023-10-10 07:19:13.377167: I tensorflow_serving/core/loader_harness.cc:74] Loading servable version {name: clip_bert version: 0}\n",
      "2023-10-10 07:19:13.377430: I external/org_tensorflow/tensorflow/cc/saved_model/reader.cc:45] Reading SavedModel from: /models/clip_bert/0\n",
      "2023-10-10 07:19:13.379381: I external/org_tensorflow/tensorflow/cc/saved_model/loader.cc:231] Restoring SavedModel bundle.\n",
      "2023-10-10 07:19:13.817906: I external/org_tensorflow/tensorflow/cc/saved_model/reader.cc:91] Reading meta graph with tags { serve }\n",
      "2023-10-10 07:19:13.817952: I external/org_tensorflow/tensorflow/cc/saved_model/reader.cc:132] Reading SavedModel debug info (if present) from: /models/clip_bert/2\n",
      "2023-10-10 07:19:13.954417: I tensorflow_serving/core/basic_manager.cc:739] Successfully reserved resources to load servable {name: clip_bert version: 1}\n",
      "2023-10-10 07:19:13.954572: I tensorflow_serving/core/loader_harness.cc:66] Approving load for servable version {name: clip_bert version: 1}\n",
      "2023-10-10 07:19:13.954607: I tensorflow_serving/core/loader_harness.cc:74] Loading servable version {name: clip_bert version: 1}\n",
      "2023-10-10 07:19:13.954906: I external/org_tensorflow/tensorflow/cc/saved_model/reader.cc:45] Reading SavedModel from: /models/clip_bert/1\n",
      "2023-10-10 07:19:14.051970: I external/org_tensorflow/tensorflow/cc/saved_model/loader.cc:231] Restoring SavedModel bundle.\n",
      "2023-10-10 07:19:14.354842: I external/org_tensorflow/tensorflow/cc/saved_model/loader.cc:231] Restoring SavedModel bundle.\n",
      "2023-10-10 07:19:14.874660: I external/org_tensorflow/tensorflow/cc/saved_model/reader.cc:91] Reading meta graph with tags { serve }\n",
      "2023-10-10 07:19:14.874732: I external/org_tensorflow/tensorflow/cc/saved_model/reader.cc:132] Reading SavedModel debug info (if present) from: /models/clip_bert/0\n",
      "2023-10-10 07:19:15.695963: I external/org_tensorflow/tensorflow/cc/saved_model/reader.cc:91] Reading meta graph with tags { serve }\n",
      "2023-10-10 07:19:15.696023: I external/org_tensorflow/tensorflow/cc/saved_model/reader.cc:132] Reading SavedModel debug info (if present) from: /models/clip_bert/1\n",
      "2023-10-10 07:19:15.714840: I external/org_tensorflow/tensorflow/cc/saved_model/loader.cc:231] Restoring SavedModel bundle.\n",
      "2023-10-10 07:19:16.075847: I external/org_tensorflow/tensorflow/cc/saved_model/loader.cc:231] Restoring SavedModel bundle.\n",
      "2023-10-10 07:19:16.870312: I external/org_tensorflow/tensorflow/cc/saved_model/loader.cc:231] Restoring SavedModel bundle.\n",
      "2023-10-10 07:19:17.546182: I external/org_tensorflow/tensorflow/cc/saved_model/loader.cc:231] Restoring SavedModel bundle.\n",
      "2023-10-10 07:19:17.685519: I external/org_tensorflow/tensorflow/cc/saved_model/loader.cc:215] Running initialization op on SavedModel bundle at path: /models/clip_bert/16\n",
      "2023-10-10 07:19:17.686429: I external/org_tensorflow/tensorflow/cc/saved_model/loader.cc:215] Running initialization op on SavedModel bundle at path: /models/clip_bert/15\n",
      "2023-10-10 07:19:17.810790: I external/org_tensorflow/tensorflow/cc/saved_model/loader.cc:215] Running initialization op on SavedModel bundle at path: /models/clip_bert/14\n",
      "2023-10-10 07:19:17.938190: I external/org_tensorflow/tensorflow/cc/saved_model/loader.cc:215] Running initialization op on SavedModel bundle at path: /models/clip_bert/13\n",
      "2023-10-10 07:19:18.049726: I external/org_tensorflow/tensorflow/cc/saved_model/loader.cc:215] Running initialization op on SavedModel bundle at path: /models/clip_bert/12\n",
      "2023-10-10 07:19:18.654377: I external/org_tensorflow/tensorflow/cc/saved_model/loader.cc:314] SavedModel load for tags { serve }; Status: success: OK. Took 9798649 microseconds.\n",
      "2023-10-10 07:19:18.656344: I external/org_tensorflow/tensorflow/cc/saved_model/loader.cc:215] Running initialization op on SavedModel bundle at path: /models/clip_bert/10\n",
      "2023-10-10 07:19:18.707873: I tensorflow_serving/servables/tensorflow/saved_model_warmup_util.cc:62] No warmup data file found at /models/clip_bert/15/assets.extra/tf_serving_warmup_requests\n",
      "2023-10-10 07:19:18.891859: I external/org_tensorflow/tensorflow/cc/saved_model/loader.cc:314] SavedModel load for tags { serve }; Status: success: OK. Took 10135988 microseconds.\n",
      "2023-10-10 07:19:18.895898: I external/org_tensorflow/tensorflow/cc/saved_model/loader.cc:215] Running initialization op on SavedModel bundle at path: /models/clip_bert/11\n",
      "2023-10-10 07:19:18.944897: I tensorflow_serving/servables/tensorflow/saved_model_warmup_util.cc:62] No warmup data file found at /models/clip_bert/16/assets.extra/tf_serving_warmup_requests\n",
      "2023-10-10 07:19:19.183726: I external/org_tensorflow/tensorflow/cc/saved_model/loader.cc:314] SavedModel load for tags { serve }; Status: success: OK. Took 9928751 microseconds.\n",
      "2023-10-10 07:19:19.183829: I external/org_tensorflow/tensorflow/cc/saved_model/loader.cc:314] SavedModel load for tags { serve }; Status: success: OK. Took 10205658 microseconds.\n",
      "2023-10-10 07:19:19.184254: I external/org_tensorflow/tensorflow/cc/saved_model/loader.cc:314] SavedModel load for tags { serve }; Status: success: OK. Took 10067705 microseconds.\n",
      "2023-10-10 07:19:19.185792: I external/org_tensorflow/tensorflow/cc/saved_model/loader.cc:215] Running initialization op on SavedModel bundle at path: /models/clip_bert/9\n",
      "2023-10-10 07:19:19.237678: I tensorflow_serving/servables/tensorflow/saved_model_warmup_util.cc:62] No warmup data file found at /models/clip_bert/14/assets.extra/tf_serving_warmup_requests\n",
      "2023-10-10 07:19:19.249216: I tensorflow_serving/servables/tensorflow/saved_model_warmup_util.cc:62] No warmup data file found at /models/clip_bert/13/assets.extra/tf_serving_warmup_requests\n",
      "2023-10-10 07:19:19.261832: I tensorflow_serving/servables/tensorflow/saved_model_warmup_util.cc:62] No warmup data file found at /models/clip_bert/12/assets.extra/tf_serving_warmup_requests\n",
      "2023-10-10 07:19:19.753186: I external/org_tensorflow/tensorflow/cc/saved_model/loader.cc:314] SavedModel load for tags { serve }; Status: success: OK. Took 10167751 microseconds.\n",
      "2023-10-10 07:19:19.794119: I tensorflow_serving/servables/tensorflow/saved_model_warmup_util.cc:62] No warmup data file found at /models/clip_bert/10/assets.extra/tf_serving_warmup_requests\n",
      "2023-10-10 07:19:19.908193: I external/org_tensorflow/tensorflow/cc/saved_model/loader.cc:314] SavedModel load for tags { serve }; Status: success: OK. Took 10484335 microseconds.\n",
      "2023-10-10 07:19:19.939210: I tensorflow_serving/core/loader_harness.cc:95] Successfully loaded servable version {name: clip_bert version: 15}\n",
      "2023-10-10 07:19:19.954156: I tensorflow_serving/servables/tensorflow/saved_model_warmup_util.cc:62] No warmup data file found at /models/clip_bert/11/assets.extra/tf_serving_warmup_requests\n",
      "2023-10-10 07:19:20.142900: I external/org_tensorflow/tensorflow/cc/saved_model/loader.cc:314] SavedModel load for tags { serve }; Status: success: OK. Took 10342929 microseconds.\n",
      "2023-10-10 07:19:20.181354: I tensorflow_serving/servables/tensorflow/saved_model_warmup_util.cc:62] No warmup data file found at /models/clip_bert/9/assets.extra/tf_serving_warmup_requests\n",
      "2023-10-10 07:19:20.607580: I tensorflow_serving/core/loader_harness.cc:95] Successfully loaded servable version {name: clip_bert version: 16}\n",
      "2023-10-10 07:19:20.912070: I tensorflow_serving/core/loader_harness.cc:95] Successfully loaded servable version {name: clip_bert version: 13}\n",
      "2023-10-10 07:19:21.126070: I tensorflow_serving/core/loader_harness.cc:95] Successfully loaded servable version {name: clip_bert version: 12}\n",
      "2023-10-10 07:19:21.237600: I tensorflow_serving/core/loader_harness.cc:95] Successfully loaded servable version {name: clip_bert version: 14}\n",
      "2023-10-10 07:19:21.316255: I tensorflow_serving/core/loader_harness.cc:95] Successfully loaded servable version {name: clip_bert version: 11}\n",
      "2023-10-10 07:19:21.374871: I tensorflow_serving/core/loader_harness.cc:95] Successfully loaded servable version {name: clip_bert version: 10}\n",
      "2023-10-10 07:19:21.489449: I tensorflow_serving/core/loader_harness.cc:95] Successfully loaded servable version {name: clip_bert version: 9}\n",
      "2023-10-10 07:19:22.003092: I external/org_tensorflow/tensorflow/cc/saved_model/loader.cc:215] Running initialization op on SavedModel bundle at path: /models/clip_bert/5\n",
      "2023-10-10 07:19:22.183769: I external/org_tensorflow/tensorflow/cc/saved_model/loader.cc:215] Running initialization op on SavedModel bundle at path: /models/clip_bert/7\n",
      "2023-10-10 07:19:22.265473: I external/org_tensorflow/tensorflow/cc/saved_model/loader.cc:215] Running initialization op on SavedModel bundle at path: /models/clip_bert/8\n",
      "2023-10-10 07:19:22.369633: I external/org_tensorflow/tensorflow/cc/saved_model/loader.cc:215] Running initialization op on SavedModel bundle at path: /models/clip_bert/6\n",
      "2023-10-10 07:19:22.371977: I external/org_tensorflow/tensorflow/cc/saved_model/loader.cc:215] Running initialization op on SavedModel bundle at path: /models/clip_bert/3\n",
      "2023-10-10 07:19:22.598764: I external/org_tensorflow/tensorflow/cc/saved_model/loader.cc:215] Running initialization op on SavedModel bundle at path: /models/clip_bert/2\n",
      "2023-10-10 07:19:22.721876: I external/org_tensorflow/tensorflow/cc/saved_model/loader.cc:215] Running initialization op on SavedModel bundle at path: /models/clip_bert/4\n",
      "2023-10-10 07:19:22.927753: I external/org_tensorflow/tensorflow/cc/saved_model/loader.cc:215] Running initialization op on SavedModel bundle at path: /models/clip_bert/0\n",
      "2023-10-10 07:19:23.069654: I external/org_tensorflow/tensorflow/cc/saved_model/loader.cc:314] SavedModel load for tags { serve }; Status: success: OK. Took 11972717 microseconds.\n",
      "2023-10-10 07:19:23.154296: I tensorflow_serving/servables/tensorflow/saved_model_warmup_util.cc:62] No warmup data file found at /models/clip_bert/5/assets.extra/tf_serving_warmup_requests\n",
      "2023-10-10 07:19:23.334863: I external/org_tensorflow/tensorflow/cc/saved_model/loader.cc:314] SavedModel load for tags { serve }; Status: success: OK. Took 13269205 microseconds.\n",
      "2023-10-10 07:19:23.409059: I external/org_tensorflow/tensorflow/cc/saved_model/loader.cc:314] SavedModel load for tags { serve }; Status: success: OK. Took 12991836 microseconds.\n",
      "2023-10-10 07:19:23.417106: I tensorflow_serving/servables/tensorflow/saved_model_warmup_util.cc:62] No warmup data file found at /models/clip_bert/8/assets.extra/tf_serving_warmup_requests\n",
      "2023-10-10 07:19:23.447292: I external/org_tensorflow/tensorflow/cc/saved_model/loader.cc:314] SavedModel load for tags { serve }; Status: success: OK. Took 12703215 microseconds.\n",
      "2023-10-10 07:19:23.458316: I tensorflow_serving/servables/tensorflow/saved_model_warmup_util.cc:62] No warmup data file found at /models/clip_bert/7/assets.extra/tf_serving_warmup_requests\n",
      "2023-10-10 07:19:23.562817: I tensorflow_serving/servables/tensorflow/saved_model_warmup_util.cc:62] No warmup data file found at /models/clip_bert/6/assets.extra/tf_serving_warmup_requests\n",
      "2023-10-10 07:19:23.700088: I external/org_tensorflow/tensorflow/cc/saved_model/loader.cc:314] SavedModel load for tags { serve }; Status: success: OK. Took 12060142 microseconds.\n",
      "2023-10-10 07:19:23.717711: I external/org_tensorflow/tensorflow/cc/saved_model/loader.cc:314] SavedModel load for tags { serve }; Status: success: OK. Took 11432051 microseconds.\n",
      "2023-10-10 07:19:23.746725: I tensorflow_serving/servables/tensorflow/saved_model_warmup_util.cc:62] No warmup data file found at /models/clip_bert/3/assets.extra/tf_serving_warmup_requests\n",
      "2023-10-10 07:19:23.808899: I external/org_tensorflow/tensorflow/cc/saved_model/loader.cc:314] SavedModel load for tags { serve }; Status: success: OK. Took 10905116 microseconds.\n",
      "2023-10-10 07:19:23.825202: I tensorflow_serving/servables/tensorflow/saved_model_warmup_util.cc:62] No warmup data file found at /models/clip_bert/4/assets.extra/tf_serving_warmup_requests\n",
      "2023-10-10 07:19:23.852519: I tensorflow_serving/core/loader_harness.cc:95] Successfully loaded servable version {name: clip_bert version: 5}\n",
      "2023-10-10 07:19:23.914506: I tensorflow_serving/servables/tensorflow/saved_model_warmup_util.cc:62] No warmup data file found at /models/clip_bert/2/assets.extra/tf_serving_warmup_requests\n",
      "2023-10-10 07:19:24.009636: I tensorflow_serving/core/loader_harness.cc:95] Successfully loaded servable version {name: clip_bert version: 7}\n",
      "2023-10-10 07:19:24.049864: I external/org_tensorflow/tensorflow/cc/saved_model/loader.cc:314] SavedModel load for tags { serve }; Status: success: OK. Took 10672437 microseconds.\n",
      "2023-10-10 07:19:24.080113: I tensorflow_serving/servables/tensorflow/saved_model_warmup_util.cc:62] No warmup data file found at /models/clip_bert/0/assets.extra/tf_serving_warmup_requests\n",
      "2023-10-10 07:19:24.083398: I external/org_tensorflow/tensorflow/cc/saved_model/loader.cc:215] Running initialization op on SavedModel bundle at path: /models/clip_bert/1\n",
      "2023-10-10 07:19:24.092182: I tensorflow_serving/core/loader_harness.cc:95] Successfully loaded servable version {name: clip_bert version: 8}\n",
      "2023-10-10 07:19:24.140369: I tensorflow_serving/core/loader_harness.cc:95] Successfully loaded servable version {name: clip_bert version: 6}\n",
      "2023-10-10 07:19:24.255181: I tensorflow_serving/core/loader_harness.cc:95] Successfully loaded servable version {name: clip_bert version: 2}\n",
      "2023-10-10 07:19:24.303956: I tensorflow_serving/core/loader_harness.cc:95] Successfully loaded servable version {name: clip_bert version: 4}\n",
      "2023-10-10 07:19:24.305456: I tensorflow_serving/core/loader_harness.cc:95] Successfully loaded servable version {name: clip_bert version: 3}\n",
      "2023-10-10 07:19:24.375987: I tensorflow_serving/core/loader_harness.cc:95] Successfully loaded servable version {name: clip_bert version: 0}\n",
      "2023-10-10 07:19:24.591884: I external/org_tensorflow/tensorflow/cc/saved_model/loader.cc:314] SavedModel load for tags { serve }; Status: success: OK. Took 10636979 microseconds.\n",
      "2023-10-10 07:19:24.616664: I tensorflow_serving/servables/tensorflow/saved_model_warmup_util.cc:62] No warmup data file found at /models/clip_bert/1/assets.extra/tf_serving_warmup_requests\n",
      "2023-10-10 07:19:24.773501: I tensorflow_serving/core/loader_harness.cc:95] Successfully loaded servable version {name: clip_bert version: 1}\n",
      "2023-10-10 07:19:24.775247: I tensorflow_serving/model_servers/server_core.cc:486] Finished adding/updating models\n",
      "2023-10-10 07:19:24.775646: I tensorflow_serving/model_servers/server.cc:118] Using InsecureServerCredentials\n",
      "2023-10-10 07:19:24.775754: I tensorflow_serving/model_servers/server.cc:383] Profiler service is enabled\n",
      "2023-10-10 07:19:24.778695: I tensorflow_serving/model_servers/server.cc:409] Running gRPC ModelServer at 0.0.0.0:8500 ...\n",
      "[warn] getaddrinfo: address family for nodename not supported\n",
      "2023-10-10 07:19:24.780210: I tensorflow_serving/model_servers/server.cc:430] Exporting HTTP/REST API at:localhost:8501 ...\n",
      "[evhttp_server.cc : 245] NET_LOG: Entering the event loop ...\n",
      "^C\n"
     ]
    }
   ],
   "source": [
    "# !docker run -p 8501:8501 \\\n",
    "#     --mount type=bind,source=/home/enrico/univr/Tesi/notebooks/serving_text_models,target=/models/clip_bert \\\n",
    "#     --mount type=bind,source=/home/enrico/univr/Tesi/notebooks/models.config,target=/models/models.config \\\n",
    "#     -t tensorflow/serving --model_config_file=/models/models.config"
   ]
  },
  {
   "cell_type": "code",
   "execution_count": 10,
   "metadata": {},
   "outputs": [],
   "source": [
    "# for model_id in range(10,17):\n",
    "#     model = TFVisionTextDualEncoderModel.from_vision_text_pretrained(\n",
    "#         text_model_name_or_path='bert-base-uncased',vision_model_name_or_path='google/vit-base-patch16-224')\n",
    "#     model.load_weights(f'../trainer/saved_models/{model_id}')\n",
    "\n",
    "#     tf.keras.models.save_model(\n",
    "#         model.text_model,\n",
    "#         f'serving_text_models/{model_id}',\n",
    "#         overwrite=True,\n",
    "#         include_optimizer=True\n",
    "#     )"
   ]
  },
  {
   "cell_type": "code",
   "execution_count": 13,
   "metadata": {},
   "outputs": [
    {
     "name": "stderr",
     "output_type": "stream",
     "text": [
      "Some weights of the PyTorch model were not used when initializing the TF 2.0 model TFViTModel: ['classifier.bias', 'classifier.weight']\n",
      "- This IS expected if you are initializing TFViTModel from a PyTorch model trained on another task or with another architecture (e.g. initializing a TFBertForSequenceClassification model from a BertForPreTraining model).\n",
      "- This IS NOT expected if you are initializing TFViTModel from a PyTorch model that you expect to be exactly identical (e.g. initializing a TFBertForSequenceClassification model from a BertForSequenceClassification model).\n",
      "Some weights or buffers of the TF 2.0 model TFViTModel were not initialized from the PyTorch model and are newly initialized: ['vit.pooler.dense.weight', 'vit.pooler.dense.bias']\n",
      "You should probably TRAIN this model on a down-stream task to be able to use it for predictions and inference.\n",
      "Some weights of the PyTorch model were not used when initializing the TF 2.0 model TFBertModel: ['cls.seq_relationship.weight', 'cls.seq_relationship.bias', 'cls.predictions.transform.LayerNorm.weight', 'cls.predictions.transform.dense.bias', 'cls.predictions.bias', 'cls.predictions.transform.dense.weight', 'cls.predictions.transform.LayerNorm.bias']\n",
      "- This IS expected if you are initializing TFBertModel from a PyTorch model trained on another task or with another architecture (e.g. initializing a TFBertForSequenceClassification model from a BertForPreTraining model).\n",
      "- This IS NOT expected if you are initializing TFBertModel from a PyTorch model that you expect to be exactly identical (e.g. initializing a TFBertForSequenceClassification model from a BertForSequenceClassification model).\n",
      "All the weights of TFBertModel were initialized from the PyTorch model.\n",
      "If your task is similar to the task the model of the checkpoint was trained on, you can already use TFBertModel for predictions without further training.\n",
      "The projection layer and logit scale weights `['visual_projection.weight', 'text_projection.weight', 'logit_scale']` are newly initialized. You should probably TRAIN this model on a down-stream task to be able to use it for predictions and inference.\n",
      "2023-10-10 09:23:20.158282: W tensorflow/core/util/tensor_slice_reader.cc:97] Could not open ../trainer/saved_models/4: FAILED_PRECONDITION: ../trainer/saved_models/4; Is a directory: perhaps your file is in a different file format and you need to use a different restore operator?\n"
     ]
    },
    {
     "data": {
      "text/plain": [
       "'MRR @ 10 for model 4 is 0.06364461665169212'"
      ]
     },
     "execution_count": 13,
     "metadata": {},
     "output_type": "execute_result"
    }
   ],
   "source": [
    "def meanReciprocalRank(model_id, k, images, img_paths, image_path_to_caption):\n",
    "    rank_list = []\n",
    "    model = TFVisionTextDualEncoderModel.from_vision_text_pretrained(text_model_name_or_path='bert-base-uncased',vision_model_name_or_path='google/vit-base-patch16-224')\n",
    "    model.load_weights(f'../trainer/saved_models/{model_id}')\n",
    "    if os.path.exists(f'img_features/{model_id}.npy'):\n",
    "        image_features = np.load(f'img_features/{model_id}.npy')\n",
    "    else:\n",
    "        Path(\"img_features\").mkdir(parents=True, exist_ok=True)\n",
    "        image_features = model.get_image_features(images)\n",
    "        np.save(f'img_features/{model_id}',image_features)\n",
    "    for index,list_elem in enumerate(img_paths):\n",
    "        batch = tokenizer(image_path_to_caption.get(list_elem)[0])\n",
    "        batch = dict(batch)\n",
    "        batch = [batch]\n",
    "        input_data = {\"instances\": batch}\n",
    "        r = requests.post(f\"http://localhost:8501/v1/models/clip_bert/versions/{model_id}:predict\", data=json.dumps(input_data))\n",
    "        result = json.loads(r.text)[\"predictions\"][0]\n",
    "        pooled_output = model.text_projection(tf.expand_dims(result['pooler_output'],0))\n",
    "        logits = np.dot(image_features, pooled_output.numpy().T)\n",
    "        probs = tf.nn.softmax(logits, axis=0)\n",
    "        rank = 1 + np.argsort(probs, axis=0).flatten()[::-1].tolist().index(index)\n",
    "        if rank > k:\n",
    "            rank_list.append(0)\n",
    "        else:\n",
    "            rank_list.append(1/rank)\n",
    "    return f'MRR @ {k} for model {model_id} is {np.mean(rank_list)}'\n",
    "# meanReciprocalRank(4,10,images,img_paths,image_path_to_caption)"
   ]
  },
  {
   "cell_type": "code",
   "execution_count": 13,
   "metadata": {},
   "outputs": [
    {
     "name": "stderr",
     "output_type": "stream",
     "text": [
      "Some weights of the PyTorch model were not used when initializing the TF 2.0 model TFViTModel: ['classifier.weight', 'classifier.bias']\n",
      "- This IS expected if you are initializing TFViTModel from a PyTorch model trained on another task or with another architecture (e.g. initializing a TFBertForSequenceClassification model from a BertForPreTraining model).\n",
      "- This IS NOT expected if you are initializing TFViTModel from a PyTorch model that you expect to be exactly identical (e.g. initializing a TFBertForSequenceClassification model from a BertForSequenceClassification model).\n",
      "Some weights or buffers of the TF 2.0 model TFViTModel were not initialized from the PyTorch model and are newly initialized: ['vit.pooler.dense.weight', 'vit.pooler.dense.bias']\n",
      "You should probably TRAIN this model on a down-stream task to be able to use it for predictions and inference.\n",
      "Some weights of the PyTorch model were not used when initializing the TF 2.0 model TFBertModel: ['cls.predictions.transform.LayerNorm.weight', 'cls.predictions.bias', 'cls.seq_relationship.weight', 'cls.predictions.transform.dense.weight', 'cls.predictions.transform.dense.bias', 'cls.predictions.transform.LayerNorm.bias', 'cls.seq_relationship.bias']\n",
      "- This IS expected if you are initializing TFBertModel from a PyTorch model trained on another task or with another architecture (e.g. initializing a TFBertForSequenceClassification model from a BertForPreTraining model).\n",
      "- This IS NOT expected if you are initializing TFBertModel from a PyTorch model that you expect to be exactly identical (e.g. initializing a TFBertForSequenceClassification model from a BertForSequenceClassification model).\n",
      "All the weights of TFBertModel were initialized from the PyTorch model.\n",
      "If your task is similar to the task the model of the checkpoint was trained on, you can already use TFBertModel for predictions without further training.\n",
      "The projection layer and logit scale weights `['visual_projection.weight', 'text_projection.weight', 'logit_scale']` are newly initialized. You should probably TRAIN this model on a down-stream task to be able to use it for predictions and inference.\n",
      "2023-10-10 09:01:24.230413: W tensorflow/core/util/tensor_slice_reader.cc:97] Could not open ../trainer/saved_models/10: FAILED_PRECONDITION: ../trainer/saved_models/10; Is a directory: perhaps your file is in a different file format and you need to use a different restore operator?\n"
     ]
    },
    {
     "name": "stdout",
     "output_type": "stream",
     "text": [
      "WARNING:tensorflow:Detecting that an object or model or tf.train.Checkpoint is being deleted with unrestored values. See the following logs for the specific values in question. To silence these warnings, use `status.expect_partial()`. See https://www.tensorflow.org/api_docs/python/tf/train/Checkpoint#restorefor details about the status object returned by the restore function.\n",
      "WARNING:tensorflow:Value in checkpoint could not be found in the restored object: (root).optimizer._iterations\n",
      "WARNING:tensorflow:Value in checkpoint could not be found in the restored object: (root).optimizer._current_learning_rate\n",
      "WARNING:tensorflow:Value in checkpoint could not be found in the restored object: (root).optimizer._variables.1\n",
      "WARNING:tensorflow:Value in checkpoint could not be found in the restored object: (root).optimizer._variables.2\n",
      "WARNING:tensorflow:Value in checkpoint could not be found in the restored object: (root).optimizer._variables.3\n",
      "WARNING:tensorflow:Value in checkpoint could not be found in the restored object: (root).optimizer._variables.4\n",
      "WARNING:tensorflow:Value in checkpoint could not be found in the restored object: (root).optimizer._variables.5\n",
      "WARNING:tensorflow:Value in checkpoint could not be found in the restored object: (root).optimizer._variables.6\n",
      "WARNING:tensorflow:Value in checkpoint could not be found in the restored object: (root).keras_api.metrics.0.total\n",
      "WARNING:tensorflow:Value in checkpoint could not be found in the restored object: (root).keras_api.metrics.0.count\n"
     ]
    },
    {
     "name": "stderr",
     "output_type": "stream",
     "text": [
      "Some weights of the PyTorch model were not used when initializing the TF 2.0 model TFViTModel: ['classifier.weight', 'classifier.bias']\n",
      "- This IS expected if you are initializing TFViTModel from a PyTorch model trained on another task or with another architecture (e.g. initializing a TFBertForSequenceClassification model from a BertForPreTraining model).\n",
      "- This IS NOT expected if you are initializing TFViTModel from a PyTorch model that you expect to be exactly identical (e.g. initializing a TFBertForSequenceClassification model from a BertForSequenceClassification model).\n",
      "Some weights or buffers of the TF 2.0 model TFViTModel were not initialized from the PyTorch model and are newly initialized: ['vit.pooler.dense.weight', 'vit.pooler.dense.bias']\n",
      "You should probably TRAIN this model on a down-stream task to be able to use it for predictions and inference.\n",
      "Some weights of the PyTorch model were not used when initializing the TF 2.0 model TFBertModel: ['cls.predictions.transform.LayerNorm.weight', 'cls.predictions.bias', 'cls.seq_relationship.weight', 'cls.predictions.transform.dense.weight', 'cls.predictions.transform.dense.bias', 'cls.predictions.transform.LayerNorm.bias', 'cls.seq_relationship.bias']\n",
      "- This IS expected if you are initializing TFBertModel from a PyTorch model trained on another task or with another architecture (e.g. initializing a TFBertForSequenceClassification model from a BertForPreTraining model).\n",
      "- This IS NOT expected if you are initializing TFBertModel from a PyTorch model that you expect to be exactly identical (e.g. initializing a TFBertForSequenceClassification model from a BertForSequenceClassification model).\n",
      "All the weights of TFBertModel were initialized from the PyTorch model.\n",
      "If your task is similar to the task the model of the checkpoint was trained on, you can already use TFBertModel for predictions without further training.\n",
      "The projection layer and logit scale weights `['visual_projection.weight', 'text_projection.weight', 'logit_scale']` are newly initialized. You should probably TRAIN this model on a down-stream task to be able to use it for predictions and inference.\n",
      "2023-10-10 09:02:19.493259: W tensorflow/core/util/tensor_slice_reader.cc:97] Could not open ../trainer/saved_models/11: FAILED_PRECONDITION: ../trainer/saved_models/11; Is a directory: perhaps your file is in a different file format and you need to use a different restore operator?\n"
     ]
    },
    {
     "name": "stdout",
     "output_type": "stream",
     "text": [
      "WARNING:tensorflow:Detecting that an object or model or tf.train.Checkpoint is being deleted with unrestored values. See the following logs for the specific values in question. To silence these warnings, use `status.expect_partial()`. See https://www.tensorflow.org/api_docs/python/tf/train/Checkpoint#restorefor details about the status object returned by the restore function.\n",
      "WARNING:tensorflow:Value in checkpoint could not be found in the restored object: (root).optimizer._iterations\n",
      "WARNING:tensorflow:Value in checkpoint could not be found in the restored object: (root).optimizer._current_learning_rate\n",
      "WARNING:tensorflow:Value in checkpoint could not be found in the restored object: (root).optimizer._variables.1\n",
      "WARNING:tensorflow:Value in checkpoint could not be found in the restored object: (root).optimizer._variables.2\n",
      "WARNING:tensorflow:Value in checkpoint could not be found in the restored object: (root).optimizer._variables.3\n",
      "WARNING:tensorflow:Value in checkpoint could not be found in the restored object: (root).optimizer._variables.4\n",
      "WARNING:tensorflow:Value in checkpoint could not be found in the restored object: (root).optimizer._variables.5\n",
      "WARNING:tensorflow:Value in checkpoint could not be found in the restored object: (root).optimizer._variables.6\n",
      "WARNING:tensorflow:Value in checkpoint could not be found in the restored object: (root).keras_api.metrics.0.total\n",
      "WARNING:tensorflow:Value in checkpoint could not be found in the restored object: (root).keras_api.metrics.0.count\n"
     ]
    },
    {
     "name": "stderr",
     "output_type": "stream",
     "text": [
      "Some weights of the PyTorch model were not used when initializing the TF 2.0 model TFViTModel: ['classifier.weight', 'classifier.bias']\n",
      "- This IS expected if you are initializing TFViTModel from a PyTorch model trained on another task or with another architecture (e.g. initializing a TFBertForSequenceClassification model from a BertForPreTraining model).\n",
      "- This IS NOT expected if you are initializing TFViTModel from a PyTorch model that you expect to be exactly identical (e.g. initializing a TFBertForSequenceClassification model from a BertForSequenceClassification model).\n",
      "Some weights or buffers of the TF 2.0 model TFViTModel were not initialized from the PyTorch model and are newly initialized: ['vit.pooler.dense.weight', 'vit.pooler.dense.bias']\n",
      "You should probably TRAIN this model on a down-stream task to be able to use it for predictions and inference.\n",
      "Some weights of the PyTorch model were not used when initializing the TF 2.0 model TFBertModel: ['cls.predictions.transform.LayerNorm.weight', 'cls.predictions.bias', 'cls.seq_relationship.weight', 'cls.predictions.transform.dense.weight', 'cls.predictions.transform.dense.bias', 'cls.predictions.transform.LayerNorm.bias', 'cls.seq_relationship.bias']\n",
      "- This IS expected if you are initializing TFBertModel from a PyTorch model trained on another task or with another architecture (e.g. initializing a TFBertForSequenceClassification model from a BertForPreTraining model).\n",
      "- This IS NOT expected if you are initializing TFBertModel from a PyTorch model that you expect to be exactly identical (e.g. initializing a TFBertForSequenceClassification model from a BertForSequenceClassification model).\n",
      "All the weights of TFBertModel were initialized from the PyTorch model.\n",
      "If your task is similar to the task the model of the checkpoint was trained on, you can already use TFBertModel for predictions without further training.\n",
      "The projection layer and logit scale weights `['visual_projection.weight', 'text_projection.weight', 'logit_scale']` are newly initialized. You should probably TRAIN this model on a down-stream task to be able to use it for predictions and inference.\n",
      "2023-10-10 09:03:17.251932: W tensorflow/core/util/tensor_slice_reader.cc:97] Could not open ../trainer/saved_models/12: FAILED_PRECONDITION: ../trainer/saved_models/12; Is a directory: perhaps your file is in a different file format and you need to use a different restore operator?\n"
     ]
    },
    {
     "name": "stdout",
     "output_type": "stream",
     "text": [
      "WARNING:tensorflow:Detecting that an object or model or tf.train.Checkpoint is being deleted with unrestored values. See the following logs for the specific values in question. To silence these warnings, use `status.expect_partial()`. See https://www.tensorflow.org/api_docs/python/tf/train/Checkpoint#restorefor details about the status object returned by the restore function.\n",
      "WARNING:tensorflow:Value in checkpoint could not be found in the restored object: (root).optimizer._iterations\n",
      "WARNING:tensorflow:Value in checkpoint could not be found in the restored object: (root).optimizer._current_learning_rate\n",
      "WARNING:tensorflow:Value in checkpoint could not be found in the restored object: (root).optimizer._variables.1\n",
      "WARNING:tensorflow:Value in checkpoint could not be found in the restored object: (root).optimizer._variables.2\n",
      "WARNING:tensorflow:Value in checkpoint could not be found in the restored object: (root).optimizer._variables.3\n",
      "WARNING:tensorflow:Value in checkpoint could not be found in the restored object: (root).optimizer._variables.4\n",
      "WARNING:tensorflow:Value in checkpoint could not be found in the restored object: (root).optimizer._variables.5\n",
      "WARNING:tensorflow:Value in checkpoint could not be found in the restored object: (root).optimizer._variables.6\n",
      "WARNING:tensorflow:Value in checkpoint could not be found in the restored object: (root).keras_api.metrics.0.total\n",
      "WARNING:tensorflow:Value in checkpoint could not be found in the restored object: (root).keras_api.metrics.0.count\n"
     ]
    },
    {
     "name": "stderr",
     "output_type": "stream",
     "text": [
      "Some weights of the PyTorch model were not used when initializing the TF 2.0 model TFViTModel: ['classifier.weight', 'classifier.bias']\n",
      "- This IS expected if you are initializing TFViTModel from a PyTorch model trained on another task or with another architecture (e.g. initializing a TFBertForSequenceClassification model from a BertForPreTraining model).\n",
      "- This IS NOT expected if you are initializing TFViTModel from a PyTorch model that you expect to be exactly identical (e.g. initializing a TFBertForSequenceClassification model from a BertForSequenceClassification model).\n",
      "Some weights or buffers of the TF 2.0 model TFViTModel were not initialized from the PyTorch model and are newly initialized: ['vit.pooler.dense.weight', 'vit.pooler.dense.bias']\n",
      "You should probably TRAIN this model on a down-stream task to be able to use it for predictions and inference.\n",
      "Some weights of the PyTorch model were not used when initializing the TF 2.0 model TFBertModel: ['cls.predictions.transform.LayerNorm.weight', 'cls.predictions.bias', 'cls.seq_relationship.weight', 'cls.predictions.transform.dense.weight', 'cls.predictions.transform.dense.bias', 'cls.predictions.transform.LayerNorm.bias', 'cls.seq_relationship.bias']\n",
      "- This IS expected if you are initializing TFBertModel from a PyTorch model trained on another task or with another architecture (e.g. initializing a TFBertForSequenceClassification model from a BertForPreTraining model).\n",
      "- This IS NOT expected if you are initializing TFBertModel from a PyTorch model that you expect to be exactly identical (e.g. initializing a TFBertForSequenceClassification model from a BertForSequenceClassification model).\n",
      "All the weights of TFBertModel were initialized from the PyTorch model.\n",
      "If your task is similar to the task the model of the checkpoint was trained on, you can already use TFBertModel for predictions without further training.\n",
      "The projection layer and logit scale weights `['visual_projection.weight', 'text_projection.weight', 'logit_scale']` are newly initialized. You should probably TRAIN this model on a down-stream task to be able to use it for predictions and inference.\n",
      "2023-10-10 09:04:16.117175: W tensorflow/core/util/tensor_slice_reader.cc:97] Could not open ../trainer/saved_models/13: FAILED_PRECONDITION: ../trainer/saved_models/13; Is a directory: perhaps your file is in a different file format and you need to use a different restore operator?\n"
     ]
    },
    {
     "name": "stdout",
     "output_type": "stream",
     "text": [
      "WARNING:tensorflow:Detecting that an object or model or tf.train.Checkpoint is being deleted with unrestored values. See the following logs for the specific values in question. To silence these warnings, use `status.expect_partial()`. See https://www.tensorflow.org/api_docs/python/tf/train/Checkpoint#restorefor details about the status object returned by the restore function.\n",
      "WARNING:tensorflow:Value in checkpoint could not be found in the restored object: (root).optimizer._iterations\n",
      "WARNING:tensorflow:Value in checkpoint could not be found in the restored object: (root).optimizer._current_learning_rate\n",
      "WARNING:tensorflow:Value in checkpoint could not be found in the restored object: (root).optimizer._variables.1\n",
      "WARNING:tensorflow:Value in checkpoint could not be found in the restored object: (root).optimizer._variables.2\n",
      "WARNING:tensorflow:Value in checkpoint could not be found in the restored object: (root).optimizer._variables.3\n",
      "WARNING:tensorflow:Value in checkpoint could not be found in the restored object: (root).optimizer._variables.4\n",
      "WARNING:tensorflow:Value in checkpoint could not be found in the restored object: (root).optimizer._variables.5\n",
      "WARNING:tensorflow:Value in checkpoint could not be found in the restored object: (root).optimizer._variables.6\n",
      "WARNING:tensorflow:Value in checkpoint could not be found in the restored object: (root).keras_api.metrics.0.total\n",
      "WARNING:tensorflow:Value in checkpoint could not be found in the restored object: (root).keras_api.metrics.0.count\n"
     ]
    },
    {
     "name": "stderr",
     "output_type": "stream",
     "text": [
      "Some weights of the PyTorch model were not used when initializing the TF 2.0 model TFViTModel: ['classifier.weight', 'classifier.bias']\n",
      "- This IS expected if you are initializing TFViTModel from a PyTorch model trained on another task or with another architecture (e.g. initializing a TFBertForSequenceClassification model from a BertForPreTraining model).\n",
      "- This IS NOT expected if you are initializing TFViTModel from a PyTorch model that you expect to be exactly identical (e.g. initializing a TFBertForSequenceClassification model from a BertForSequenceClassification model).\n",
      "Some weights or buffers of the TF 2.0 model TFViTModel were not initialized from the PyTorch model and are newly initialized: ['vit.pooler.dense.weight', 'vit.pooler.dense.bias']\n",
      "You should probably TRAIN this model on a down-stream task to be able to use it for predictions and inference.\n",
      "Some weights of the PyTorch model were not used when initializing the TF 2.0 model TFBertModel: ['cls.predictions.transform.LayerNorm.weight', 'cls.predictions.bias', 'cls.seq_relationship.weight', 'cls.predictions.transform.dense.weight', 'cls.predictions.transform.dense.bias', 'cls.predictions.transform.LayerNorm.bias', 'cls.seq_relationship.bias']\n",
      "- This IS expected if you are initializing TFBertModel from a PyTorch model trained on another task or with another architecture (e.g. initializing a TFBertForSequenceClassification model from a BertForPreTraining model).\n",
      "- This IS NOT expected if you are initializing TFBertModel from a PyTorch model that you expect to be exactly identical (e.g. initializing a TFBertForSequenceClassification model from a BertForSequenceClassification model).\n",
      "All the weights of TFBertModel were initialized from the PyTorch model.\n",
      "If your task is similar to the task the model of the checkpoint was trained on, you can already use TFBertModel for predictions without further training.\n",
      "The projection layer and logit scale weights `['visual_projection.weight', 'text_projection.weight', 'logit_scale']` are newly initialized. You should probably TRAIN this model on a down-stream task to be able to use it for predictions and inference.\n",
      "2023-10-10 09:05:12.972317: W tensorflow/core/util/tensor_slice_reader.cc:97] Could not open ../trainer/saved_models/14: FAILED_PRECONDITION: ../trainer/saved_models/14; Is a directory: perhaps your file is in a different file format and you need to use a different restore operator?\n"
     ]
    },
    {
     "name": "stdout",
     "output_type": "stream",
     "text": [
      "WARNING:tensorflow:Detecting that an object or model or tf.train.Checkpoint is being deleted with unrestored values. See the following logs for the specific values in question. To silence these warnings, use `status.expect_partial()`. See https://www.tensorflow.org/api_docs/python/tf/train/Checkpoint#restorefor details about the status object returned by the restore function.\n",
      "WARNING:tensorflow:Value in checkpoint could not be found in the restored object: (root).optimizer.iter\n",
      "WARNING:tensorflow:Value in checkpoint could not be found in the restored object: (root).optimizer.beta_1\n",
      "WARNING:tensorflow:Value in checkpoint could not be found in the restored object: (root).optimizer.beta_2\n",
      "WARNING:tensorflow:Value in checkpoint could not be found in the restored object: (root).optimizer.decay\n",
      "WARNING:tensorflow:Value in checkpoint could not be found in the restored object: (root).optimizer.min_lr\n",
      "WARNING:tensorflow:Value in checkpoint could not be found in the restored object: (root).optimizer.sma_threshold\n",
      "WARNING:tensorflow:Value in checkpoint could not be found in the restored object: (root).optimizer.total_steps\n",
      "WARNING:tensorflow:Value in checkpoint could not be found in the restored object: (root).optimizer.warmup_proportion\n",
      "WARNING:tensorflow:Value in checkpoint could not be found in the restored object: (root).optimizer.weight_decay\n",
      "WARNING:tensorflow:Value in checkpoint could not be found in the restored object: (root).keras_api.metrics.0.total\n",
      "WARNING:tensorflow:Value in checkpoint could not be found in the restored object: (root).keras_api.metrics.0.count\n",
      "WARNING:tensorflow:Value in checkpoint could not be found in the restored object: (root).optimizer's state 'm' for (root).logit_scale\n",
      "WARNING:tensorflow:Value in checkpoint could not be found in the restored object: (root).optimizer's state 'm' for (root).variables.399\n",
      "WARNING:tensorflow:Value in checkpoint could not be found in the restored object: (root).optimizer's state 'm' for (root).variables.400\n",
      "WARNING:tensorflow:Value in checkpoint could not be found in the restored object: (root).optimizer's state 'v' for (root).logit_scale\n",
      "WARNING:tensorflow:Value in checkpoint could not be found in the restored object: (root).optimizer's state 'v' for (root).variables.399\n",
      "WARNING:tensorflow:Value in checkpoint could not be found in the restored object: (root).optimizer's state 'v' for (root).variables.400\n"
     ]
    },
    {
     "name": "stderr",
     "output_type": "stream",
     "text": [
      "Some weights of the PyTorch model were not used when initializing the TF 2.0 model TFViTModel: ['classifier.weight', 'classifier.bias']\n",
      "- This IS expected if you are initializing TFViTModel from a PyTorch model trained on another task or with another architecture (e.g. initializing a TFBertForSequenceClassification model from a BertForPreTraining model).\n",
      "- This IS NOT expected if you are initializing TFViTModel from a PyTorch model that you expect to be exactly identical (e.g. initializing a TFBertForSequenceClassification model from a BertForSequenceClassification model).\n",
      "Some weights or buffers of the TF 2.0 model TFViTModel were not initialized from the PyTorch model and are newly initialized: ['vit.pooler.dense.weight', 'vit.pooler.dense.bias']\n",
      "You should probably TRAIN this model on a down-stream task to be able to use it for predictions and inference.\n",
      "Some weights of the PyTorch model were not used when initializing the TF 2.0 model TFBertModel: ['cls.predictions.transform.LayerNorm.weight', 'cls.predictions.bias', 'cls.seq_relationship.weight', 'cls.predictions.transform.dense.weight', 'cls.predictions.transform.dense.bias', 'cls.predictions.transform.LayerNorm.bias', 'cls.seq_relationship.bias']\n",
      "- This IS expected if you are initializing TFBertModel from a PyTorch model trained on another task or with another architecture (e.g. initializing a TFBertForSequenceClassification model from a BertForPreTraining model).\n",
      "- This IS NOT expected if you are initializing TFBertModel from a PyTorch model that you expect to be exactly identical (e.g. initializing a TFBertForSequenceClassification model from a BertForSequenceClassification model).\n",
      "All the weights of TFBertModel were initialized from the PyTorch model.\n",
      "If your task is similar to the task the model of the checkpoint was trained on, you can already use TFBertModel for predictions without further training.\n",
      "The projection layer and logit scale weights `['visual_projection.weight', 'text_projection.weight', 'logit_scale']` are newly initialized. You should probably TRAIN this model on a down-stream task to be able to use it for predictions and inference.\n",
      "2023-10-10 09:06:11.564829: W tensorflow/core/util/tensor_slice_reader.cc:97] Could not open ../trainer/saved_models/15: FAILED_PRECONDITION: ../trainer/saved_models/15; Is a directory: perhaps your file is in a different file format and you need to use a different restore operator?\n"
     ]
    },
    {
     "name": "stdout",
     "output_type": "stream",
     "text": [
      "WARNING:tensorflow:Detecting that an object or model or tf.train.Checkpoint is being deleted with unrestored values. See the following logs for the specific values in question. To silence these warnings, use `status.expect_partial()`. See https://www.tensorflow.org/api_docs/python/tf/train/Checkpoint#restorefor details about the status object returned by the restore function.\n",
      "WARNING:tensorflow:Value in checkpoint could not be found in the restored object: (root).optimizer.iter\n",
      "WARNING:tensorflow:Value in checkpoint could not be found in the restored object: (root).optimizer.beta_1\n",
      "WARNING:tensorflow:Value in checkpoint could not be found in the restored object: (root).optimizer.beta_2\n",
      "WARNING:tensorflow:Value in checkpoint could not be found in the restored object: (root).optimizer.decay\n",
      "WARNING:tensorflow:Value in checkpoint could not be found in the restored object: (root).optimizer.min_lr\n",
      "WARNING:tensorflow:Value in checkpoint could not be found in the restored object: (root).optimizer.sma_threshold\n",
      "WARNING:tensorflow:Value in checkpoint could not be found in the restored object: (root).optimizer.total_steps\n",
      "WARNING:tensorflow:Value in checkpoint could not be found in the restored object: (root).optimizer.warmup_proportion\n",
      "WARNING:tensorflow:Value in checkpoint could not be found in the restored object: (root).optimizer.weight_decay\n",
      "WARNING:tensorflow:Value in checkpoint could not be found in the restored object: (root).keras_api.metrics.0.total\n",
      "WARNING:tensorflow:Value in checkpoint could not be found in the restored object: (root).keras_api.metrics.0.count\n",
      "WARNING:tensorflow:Value in checkpoint could not be found in the restored object: (root).optimizer's state 'm' for (root).logit_scale\n",
      "WARNING:tensorflow:Value in checkpoint could not be found in the restored object: (root).optimizer's state 'm' for (root).variables.399\n",
      "WARNING:tensorflow:Value in checkpoint could not be found in the restored object: (root).optimizer's state 'm' for (root).variables.400\n",
      "WARNING:tensorflow:Value in checkpoint could not be found in the restored object: (root).optimizer's state 'v' for (root).logit_scale\n",
      "WARNING:tensorflow:Value in checkpoint could not be found in the restored object: (root).optimizer's state 'v' for (root).variables.399\n",
      "WARNING:tensorflow:Value in checkpoint could not be found in the restored object: (root).optimizer's state 'v' for (root).variables.400\n"
     ]
    },
    {
     "name": "stderr",
     "output_type": "stream",
     "text": [
      "Some weights of the PyTorch model were not used when initializing the TF 2.0 model TFViTModel: ['classifier.weight', 'classifier.bias']\n",
      "- This IS expected if you are initializing TFViTModel from a PyTorch model trained on another task or with another architecture (e.g. initializing a TFBertForSequenceClassification model from a BertForPreTraining model).\n",
      "- This IS NOT expected if you are initializing TFViTModel from a PyTorch model that you expect to be exactly identical (e.g. initializing a TFBertForSequenceClassification model from a BertForSequenceClassification model).\n",
      "Some weights or buffers of the TF 2.0 model TFViTModel were not initialized from the PyTorch model and are newly initialized: ['vit.pooler.dense.weight', 'vit.pooler.dense.bias']\n",
      "You should probably TRAIN this model on a down-stream task to be able to use it for predictions and inference.\n",
      "Some weights of the PyTorch model were not used when initializing the TF 2.0 model TFBertModel: ['cls.predictions.transform.LayerNorm.weight', 'cls.predictions.bias', 'cls.seq_relationship.weight', 'cls.predictions.transform.dense.weight', 'cls.predictions.transform.dense.bias', 'cls.predictions.transform.LayerNorm.bias', 'cls.seq_relationship.bias']\n",
      "- This IS expected if you are initializing TFBertModel from a PyTorch model trained on another task or with another architecture (e.g. initializing a TFBertForSequenceClassification model from a BertForPreTraining model).\n",
      "- This IS NOT expected if you are initializing TFBertModel from a PyTorch model that you expect to be exactly identical (e.g. initializing a TFBertForSequenceClassification model from a BertForSequenceClassification model).\n",
      "All the weights of TFBertModel were initialized from the PyTorch model.\n",
      "If your task is similar to the task the model of the checkpoint was trained on, you can already use TFBertModel for predictions without further training.\n",
      "The projection layer and logit scale weights `['visual_projection.weight', 'text_projection.weight', 'logit_scale']` are newly initialized. You should probably TRAIN this model on a down-stream task to be able to use it for predictions and inference.\n",
      "2023-10-10 09:07:09.591794: W tensorflow/core/util/tensor_slice_reader.cc:97] Could not open ../trainer/saved_models/16: FAILED_PRECONDITION: ../trainer/saved_models/16; Is a directory: perhaps your file is in a different file format and you need to use a different restore operator?\n"
     ]
    },
    {
     "name": "stdout",
     "output_type": "stream",
     "text": [
      "WARNING:tensorflow:Detecting that an object or model or tf.train.Checkpoint is being deleted with unrestored values. See the following logs for the specific values in question. To silence these warnings, use `status.expect_partial()`. See https://www.tensorflow.org/api_docs/python/tf/train/Checkpoint#restorefor details about the status object returned by the restore function.\n",
      "WARNING:tensorflow:Value in checkpoint could not be found in the restored object: (root).optimizer._iterations\n",
      "WARNING:tensorflow:Value in checkpoint could not be found in the restored object: (root).optimizer._current_learning_rate\n",
      "WARNING:tensorflow:Value in checkpoint could not be found in the restored object: (root).optimizer._variables.1\n",
      "WARNING:tensorflow:Value in checkpoint could not be found in the restored object: (root).optimizer._variables.2\n",
      "WARNING:tensorflow:Value in checkpoint could not be found in the restored object: (root).optimizer._variables.3\n",
      "WARNING:tensorflow:Value in checkpoint could not be found in the restored object: (root).optimizer._variables.4\n",
      "WARNING:tensorflow:Value in checkpoint could not be found in the restored object: (root).optimizer._variables.5\n",
      "WARNING:tensorflow:Value in checkpoint could not be found in the restored object: (root).optimizer._variables.6\n",
      "WARNING:tensorflow:Value in checkpoint could not be found in the restored object: (root).keras_api.metrics.0.total\n",
      "WARNING:tensorflow:Value in checkpoint could not be found in the restored object: (root).keras_api.metrics.0.count\n"
     ]
    },
    {
     "data": {
      "text/plain": [
       "['MRR @ 10 for model 10 is 0.012522461814914645',\n",
       " 'MRR @ 10 for model 11 is 0.07339398023360287',\n",
       " 'MRR @ 10 for model 12 is 0.12082958969751421',\n",
       " 'MRR @ 10 for model 13 is 0.12725273285414795',\n",
       " 'MRR @ 10 for model 14 is 0.12728361784965558',\n",
       " 'MRR @ 10 for model 15 is 0.06280604222821204',\n",
       " 'MRR @ 10 for model 16 is 0.032708146151542376']"
      ]
     },
     "execution_count": 13,
     "metadata": {},
     "output_type": "execute_result"
    }
   ],
   "source": [
    "mrr=[]\n",
    "for i in range(10,17):\n",
    "    mrr.append(meanReciprocalRank(i, 10, images, img_paths, image_path_to_caption))\n",
    "mrr"
   ]
  }
 ],
 "metadata": {
  "kernelspec": {
   "display_name": ".env",
   "language": "python",
   "name": "python3"
  },
  "language_info": {
   "codemirror_mode": {
    "name": "ipython",
    "version": 3
   },
   "file_extension": ".py",
   "mimetype": "text/x-python",
   "name": "python",
   "nbconvert_exporter": "python",
   "pygments_lexer": "ipython3",
   "version": "3.10.12"
  },
  "orig_nbformat": 4
 },
 "nbformat": 4,
 "nbformat_minor": 2
}
